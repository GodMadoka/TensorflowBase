{
 "cells": [
  {
   "cell_type": "markdown",
   "metadata": {},
   "source": [
    "Denoising Autoencoder Using Tensorflow"
   ]
  },
  {
   "cell_type": "code",
   "execution_count": 48,
   "metadata": {},
   "outputs": [],
   "source": [
    "import numpy as np\n",
    "import sklearn.preprocessing as prep\n",
    "import tensorflow as tf\n",
    "from tensorflow.examples.tutorials.mnist import input_data\n",
    "%matplotlib inline\n",
    "import matplotlib.pyplot as plt"
   ]
  },
  {
   "cell_type": "markdown",
   "metadata": {},
   "source": [
    "Xavier_initalizer:"
   ]
  },
  {
   "cell_type": "code",
   "execution_count": 4,
   "metadata": {
    "collapsed": true
   },
   "outputs": [],
   "source": [
    "def xavier_init(num_in, num_out):\n",
    "    low = - np.sqrt(6.0 / (num_in + num_out))\n",
    "    high = - low\n",
    "    return tf.random_uniform((num_in, num_out), low, high)"
   ]
  },
  {
   "cell_type": "code",
   "execution_count": 57,
   "metadata": {},
   "outputs": [],
   "source": [
    "class AdditiveGaussianNoiseAutoencoder(object):\n",
    "    def __init__(self, layers_units, activation = tf.nn.relu, optimizer = tf.train.AdamOptimizer(0.01), noise_scale = 0.1):\n",
    "        assert layers_units[0] == layers_units[-1], 'the units of the first and the last layer should be same'\n",
    "        self.layers_units = layers_units\n",
    "        self.activation = activation\n",
    "        self.weights = self._initialize_weights()\n",
    "        self.input_layer = tf.placeholder(tf.float32, [None, self.layers_units[0]])\n",
    "        self.output_layer = self.input_layer + noise_scale * tf.random_normal((layers_units[0],)) # add gaussian noise\n",
    "        for i in range(1,len(self.layers_units)): # build the network\n",
    "            self.output_layer = self.activation(tf.matmul(self.output_layer,self.weights['w'+str(i)]) + self.weights['b'+str(i)])\n",
    "        self.cost = tf.reduce_mean(tf.square(self.output_layer - self.input_layer)) #MSE\n",
    "        self.optimizer = optimizer.minimize(self.cost)\n",
    "        \n",
    "        init = tf.global_variables_initializer()\n",
    "        self.sess = tf.Session()\n",
    "        self.sess.run(init)\n",
    "    \n",
    "    def _initialize_weights(self):\n",
    "        weights = {}\n",
    "        num_layers = len(self.layers_units)\n",
    "        for i in range(1, num_layers): # there are no weights for the input layer\n",
    "            weights['w' + str(i)] = tf.Variable(xavier_init(self.layers_units[i - 1], self.layers_units[i]), dtype = tf.float32)\n",
    "            weights['b' + str(i)] = tf.Variable(tf.random_normal([self.layers_units[i]]), dtype = tf.float32)\n",
    "        return weights\n",
    "    \n",
    "    def train(self, X_input):\n",
    "        cost, _ = self.sess.run([self.cost, self.optimizer], feed_dict = {self.input_layer : X_input})\n",
    "        return cost\n",
    "    \n",
    "    def eval_cost(self, X_input):\n",
    "        return self.sess.run([self.cost], feed_dict = {self.input_layer : X_input})\n",
    "    \n",
    "    def eval_output(self, X_input):\n",
    "        return self.sess.run([self.output_layer], feed_dict = {self.input_layer : X_input})"
   ]
  },
  {
   "cell_type": "code",
   "execution_count": 9,
   "metadata": {},
   "outputs": [
    {
     "name": "stdout",
     "output_type": "stream",
     "text": [
      "Successfully downloaded train-images-idx3-ubyte.gz 9912422 bytes.\n",
      "Extracting MNIST_data/train-images-idx3-ubyte.gz\n",
      "Successfully downloaded train-labels-idx1-ubyte.gz 28881 bytes.\n",
      "Extracting MNIST_data/train-labels-idx1-ubyte.gz\n",
      "Successfully downloaded t10k-images-idx3-ubyte.gz 1648877 bytes.\n",
      "Extracting MNIST_data/t10k-images-idx3-ubyte.gz\n",
      "Successfully downloaded t10k-labels-idx1-ubyte.gz 4542 bytes.\n",
      "Extracting MNIST_data/t10k-labels-idx1-ubyte.gz\n"
     ]
    }
   ],
   "source": [
    "mnist = input_data.read_data_sets('MNIST_data', one_hot = True)"
   ]
  },
  {
   "cell_type": "code",
   "execution_count": 10,
   "metadata": {
    "collapsed": true
   },
   "outputs": [],
   "source": [
    "def standard_scale(X_train, X_test):\n",
    "    preprocessor = prep.StandardScaler().fit(X_train)\n",
    "    X_train = preprocessor.transform(X_train)\n",
    "    X_test = preprocessor.transform(X_test)\n",
    "    return X_train, X_test"
   ]
  },
  {
   "cell_type": "code",
   "execution_count": 11,
   "metadata": {
    "collapsed": true
   },
   "outputs": [],
   "source": [
    "def get_random_batch_from_data(data, batch_size):\n",
    "    start_index = np.random.randint(0, len(data) - batch_size)\n",
    "    return data[start_index : start_index + batch_size]"
   ]
  },
  {
   "cell_type": "markdown",
   "metadata": {},
   "source": [
    "The main training process:"
   ]
  },
  {
   "cell_type": "code",
   "execution_count": 12,
   "metadata": {
    "collapsed": true
   },
   "outputs": [],
   "source": [
    "X_train, X_test = standard_scale(mnist.train.images, mnist.test.images)"
   ]
  },
  {
   "cell_type": "code",
   "execution_count": 16,
   "metadata": {
    "collapsed": true
   },
   "outputs": [],
   "source": [
    "epochs = 20\n",
    "n_samples = int(mnist.train.num_examples)\n",
    "batch_size = 128\n",
    "show_step = 1\n",
    "learning_rate = 0.001"
   ]
  },
  {
   "cell_type": "code",
   "execution_count": 58,
   "metadata": {},
   "outputs": [
    {
     "name": "stdout",
     "output_type": "stream",
     "text": [
      "Epoch: 0001  Cost= 0.686696\n",
      "Epoch: 0002  Cost= 0.558509\n",
      "Epoch: 0003  Cost= 0.533818\n",
      "Epoch: 0004  Cost= 0.516251\n",
      "Epoch: 0005  Cost= 0.515279\n",
      "Epoch: 0006  Cost= 0.485238\n",
      "Epoch: 0007  Cost= 0.498050\n",
      "Epoch: 0008  Cost= 0.504674\n",
      "Epoch: 0009  Cost= 0.507450\n",
      "Epoch: 0010  Cost= 0.506458\n",
      "Epoch: 0011  Cost= 0.506997\n",
      "Epoch: 0012  Cost= 0.488578\n",
      "Epoch: 0013  Cost= 0.501301\n",
      "Epoch: 0014  Cost= 0.479638\n",
      "Epoch: 0015  Cost= 0.503186\n",
      "Epoch: 0016  Cost= 0.491378\n",
      "Epoch: 0017  Cost= 0.500065\n",
      "Epoch: 0018  Cost= 0.495138\n",
      "Epoch: 0019  Cost= 0.481231\n",
      "Epoch: 0020  Cost= 0.504429\n"
     ]
    }
   ],
   "source": [
    "autoencoder = AdditiveGaussianNoiseAutoencoder([784,200,784], tf.nn.relu, tf.train.AdamOptimizer(learning_rate), 0.01)\n",
    "for epoch in range(epochs):\n",
    "    avg_cost = 0\n",
    "    total_batch = int(n_samples / batch_size)\n",
    "    for i in range(total_batch):\n",
    "        X_train_batch = get_random_batch_from_data(X_train, batch_size)\n",
    "        cost = autoencoder.train(X_train_batch)\n",
    "        avg_cost += cost * batch_size / n_samples\n",
    "    if epoch % show_step == 0:\n",
    "        print(\"Epoch:\", '%04d' % (epoch + 1), \" Cost=\", '%.6f' % avg_cost)"
   ]
  },
  {
   "cell_type": "code",
   "execution_count": 63,
   "metadata": {
    "collapsed": true
   },
   "outputs": [],
   "source": [
    "def random_visualize(autoencoder, X):\n",
    "    index = np.random.randint(0, X.shape[0])\n",
    "    plt.subplot(1,2,1)\n",
    "    plt.imshow(np.reshape(X[index], (28,28)))\n",
    "    plt.subplot(1,2,2)\n",
    "    plt.imshow(np.reshape(autoencoder.eval_output([X[index]]), (28,28)))"
   ]
  },
  {
   "cell_type": "code",
   "execution_count": 64,
   "metadata": {},
   "outputs": [
    {
     "data": {
      "image/png": "[encoded data removed]",
      "text/plain": [
       "<matplotlib.figure.Figure at 0x1c28ec62b0>"
      ]
     },
     "metadata": {},
     "output_type": "display_data"
    }
   ],
   "source": [
    "random_visualize(autoencoder, X_test)"
   ]
  },
  {
   "cell_type": "code",
   "execution_count": null,
   "metadata": {
    "collapsed": true
   },
   "outputs": [],
   "source": []
  }
 ],
 "metadata": {
  "kernelspec": {
   "display_name": "Python 3",
   "language": "python",
   "name": "python3"
  },
  "language_info": {
   "codemirror_mode": {
    "name": "ipython",
    "version": 3
   },
   "file_extension": ".py",
   "mimetype": "text/x-python",
   "name": "python",
   "nbconvert_exporter": "python",
   "pygments_lexer": "ipython3",
   "version": "3.6.4"
  }
 },
 "nbformat": 4,
 "nbformat_minor": 2
}

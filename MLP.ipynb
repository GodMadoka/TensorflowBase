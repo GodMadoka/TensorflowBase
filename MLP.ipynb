{
 "cells": [
  {
   "cell_type": "markdown",
   "metadata": {},
   "source": [
    "MLP using Tensorflow:"
   ]
  },
  {
   "cell_type": "code",
   "execution_count": 1,
   "metadata": {
    "collapsed": true
   },
   "outputs": [],
   "source": [
    "from tensorflow.examples.tutorials.mnist import input_data\n",
    "import tensorflow as tf\n",
    "import matplotlib.pyplot as plt\n",
    "import random"
   ]
  },
  {
   "cell_type": "code",
   "execution_count": 2,
   "metadata": {},
   "outputs": [
    {
     "name": "stdout",
     "output_type": "stream",
     "text": [
      "Extracting MNIST_data/train-images-idx3-ubyte.gz\n",
      "Extracting MNIST_data/train-labels-idx1-ubyte.gz\n",
      "Extracting MNIST_data/t10k-images-idx3-ubyte.gz\n",
      "Extracting MNIST_data/t10k-labels-idx1-ubyte.gz\n"
     ]
    }
   ],
   "source": [
    "mnist = input_data.read_data_sets(\"MNIST_data/\", one_hot = True)"
   ]
  },
  {
   "cell_type": "code",
   "execution_count": 7,
   "metadata": {},
   "outputs": [
    {
     "name": "stdout",
     "output_type": "stream",
     "text": [
      "Epoch: 0001 cost =  47.241976976\n",
      "Epoch: 0002 cost =  9.057781520\n",
      "Epoch: 0003 cost =  4.882578544\n",
      "Epoch: 0004 cost =  3.625120582\n",
      "Epoch: 0005 cost =  2.893838376\n",
      "Epoch: 0006 cost =  2.446806705\n",
      "Epoch: 0007 cost =  2.083842305\n",
      "Epoch: 0008 cost =  2.080920758\n",
      "Epoch: 0009 cost =  1.847191010\n",
      "Epoch: 0010 cost =  1.620541118\n",
      "Epoch: 0011 cost =  1.308648376\n",
      "Epoch: 0012 cost =  1.316762533\n",
      "Epoch: 0013 cost =  1.105023429\n",
      "Epoch: 0014 cost =  1.043804603\n",
      "Epoch: 0015 cost =  0.920442892\n",
      "Epoch: 0016 cost =  0.643149915\n",
      "Epoch: 0017 cost =  0.880799121\n",
      "Epoch: 0018 cost =  0.794367008\n",
      "Epoch: 0019 cost =  0.731564937\n",
      "Epoch: 0020 cost =  0.675450329\n",
      "Epoch: 0021 cost =  0.454540418\n",
      "Epoch: 0022 cost =  0.553106377\n",
      "Epoch: 0023 cost =  0.510945770\n",
      "Epoch: 0024 cost =  0.390329542\n",
      "Epoch: 0025 cost =  0.373528938\n",
      "Accuracy:  0.9674\n",
      "Label: [4]\n",
      "Prediction [4]\n"
     ]
    },
    {
     "data": {
      "image/png": "[encoded data removed]",
      "text/plain": [
       "<matplotlib.figure.Figure at 0x1036c5c88>"
      ]
     },
     "metadata": {},
     "output_type": "display_data"
    }
   ],
   "source": [
    "# MNIST data image of shape 28 * 28 = 784\n",
    "X = tf.placeholder(tf.float32,[None,784], name = 'X')\n",
    "# 0 - 9 digits recognition = 10 classes\n",
    "Y = tf.placeholder(tf.float32,[None,10], name = 'Y')\n",
    "\n",
    "# weights & bias for nn layers\n",
    "W1 = tf.Variable(tf.random_normal([784,256]), name = 'W1')\n",
    "b1 = tf.Variable(tf.random_normal([256]), name = 'b1')\n",
    "A1 = tf.nn.relu(tf.matmul(X,W1)+b1, name = 'A1')\n",
    "\n",
    "W2 = tf.Variable(tf.random_normal([256,256]), name = 'W2')\n",
    "b2 = tf.Variable(tf.random_normal([256]), name = 'b2')\n",
    "A2 = tf.nn.relu(tf.matmul(A1,W2)+b2, name = 'A2')\n",
    "\n",
    "W3 = tf.Variable(tf.random_normal([256,10]), name = 'W3')\n",
    "b3 = tf.Variable(tf.random_normal([10]), name = 'b3')\n",
    "# Hypothesis (using softmax)\n",
    "hypothesis = tf.matmul(A2,W3)+b3\n",
    "\n",
    "cost = tf.reduce_mean(\n",
    "        tf.nn.softmax_cross_entropy_with_logits(logits=hypothesis,labels=Y))\n",
    "optimizer = tf.train.AdamOptimizer(learning_rate = 0.01)\n",
    "\n",
    "train = optimizer.minimize(cost)\n",
    "\n",
    "#Test model\n",
    "is_correct = tf.equal(tf.arg_max(hypothesis, 1), tf.arg_max(Y, 1))\n",
    "# Calculate accuracy\n",
    "accuracy = tf.reduce_mean(tf.cast(is_correct, tf.float32))\n",
    "\n",
    "#parameters\n",
    "training_epochs = 25\n",
    "batch_size = 100\n",
    "total_batch = int(mnist.train.num_examples / batch_size)\n",
    "\n",
    "with tf.Session() as sess:\n",
    "    #Initialize TensorFlow varaibles\n",
    "    sess.run(tf.global_variables_initializer())\n",
    "    #Training cycle\n",
    "    for epoch in range(training_epochs):\n",
    "        avg_cost = 0\n",
    "        for i in range(total_batch):\n",
    "            X_batch, Y_batch = mnist.train.next_batch(batch_size)\n",
    "            _, cost_val = sess.run([train,cost],\n",
    "                                   feed_dict={X:X_batch,Y:Y_batch})\n",
    "            avg_cost += cost_val/ total_batch\n",
    "        print('Epoch:','%04d' % (epoch + 1), 'cost = ', '{:.9f}'.format(avg_cost))\n",
    "    # Test the model using test sets\n",
    "    print(\"Accuracy: \", accuracy.eval(session=sess, \n",
    "                                      feed_dict={X:mnist.test.images, Y: mnist.test.labels}))\n",
    "    # Get one and predict\n",
    "    r = random.randint(0,mnist.test.num_examples - 1)\n",
    "    print(\"Label:\", sess.run(tf.argmax(mnist.test.labels[r:r+1], 1)))\n",
    "    print(\"Prediction\",sess.run(tf.arg_max(hypothesis, 1), feed_dict={X:mnist.test.images[r:r+1]}))\n",
    "    plt.imshow(mnist.test.images[r:r+1].reshape(28,28), cmap = 'Greys', interpolation = 'nearest')\n",
    "    plt.show()"
   ]
  }
 ],
 "metadata": {
  "kernelspec": {
   "display_name": "Python 3",
   "language": "python",
   "name": "python3"
  },
  "language_info": {
   "codemirror_mode": {
    "name": "ipython",
    "version": 3
   },
   "file_extension": ".py",
   "mimetype": "text/x-python",
   "name": "python",
   "nbconvert_exporter": "python",
   "pygments_lexer": "ipython3",
   "version": "3.6.4"
  }
 },
 "nbformat": 4,
 "nbformat_minor": 2
}

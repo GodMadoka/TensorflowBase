{
 "cells": [
  {
   "cell_type": "markdown",
   "metadata": {},
   "source": [
    "Simple CNN using Tensorflow"
   ]
  },
  {
   "cell_type": "code",
   "execution_count": 1,
   "metadata": {},
   "outputs": [
    {
     "name": "stdout",
     "output_type": "stream",
     "text": [
      "Extracting MNIST_data/train-images-idx3-ubyte.gz\n",
      "Extracting MNIST_data/train-labels-idx1-ubyte.gz\n",
      "Extracting MNIST_data/t10k-images-idx3-ubyte.gz\n",
      "Extracting MNIST_data/t10k-labels-idx1-ubyte.gz\n"
     ]
    }
   ],
   "source": [
    "from tensorflow.examples.tutorials.mnist import input_data\n",
    "import tensorflow as tf\n",
    "mnist = input_data.read_data_sets(\"MNIST_data/\", one_hot = True)\n",
    "sess = tf.InteractiveSession()"
   ]
  },
  {
   "cell_type": "markdown",
   "metadata": {},
   "source": [
    "functions for initializing weights and bias"
   ]
  },
  {
   "cell_type": "code",
   "execution_count": 2,
   "metadata": {
    "collapsed": true
   },
   "outputs": [],
   "source": [
    "def weight_variable(shape):\n",
    "    initial = tf.truncated_normal(shape, stddev = 0.1)\n",
    "    return tf.Variable(initial)\n",
    "\n",
    "def bias_variable(shape):\n",
    "    initial = tf.constant(0.1, shape = shape) # prevent neurons from being dead (relu)\n",
    "    return tf.Variable(initial)"
   ]
  },
  {
   "cell_type": "markdown",
   "metadata": {},
   "source": [
    "functions for initializing convolutional and pooling layers"
   ]
  },
  {
   "cell_type": "code",
   "execution_count": 3,
   "metadata": {
    "collapsed": true
   },
   "outputs": [],
   "source": [
    "def conv2d(x, W):\n",
    "    return tf.nn.conv2d(x, W, strides = [1,1,1,1], padding = 'SAME')\n",
    "\n",
    "def max_pool_2x2(x):\n",
    "    return tf.nn.max_pool(x, ksize = [1, 2, 2, 1], strides = [1, 2, 2, 1], padding = 'SAME')"
   ]
  },
  {
   "cell_type": "code",
   "execution_count": 4,
   "metadata": {
    "collapsed": true
   },
   "outputs": [],
   "source": [
    "x = tf.placeholder(tf.float32, [None, 784]) # 38 * 38 pixels images\n",
    "y = tf.placeholder(tf.float32, [None, 10]) # one-hot labels"
   ]
  },
  {
   "cell_type": "code",
   "execution_count": 5,
   "metadata": {
    "collapsed": true
   },
   "outputs": [],
   "source": [
    "x_image = tf.reshape(x, [-1, 28, 28, 1])"
   ]
  },
  {
   "cell_type": "code",
   "execution_count": 6,
   "metadata": {},
   "outputs": [],
   "source": [
    "W_conv1 = weight_variable([3, 3, 1, 16])\n",
    "b_conv1 = bias_variable([16])\n",
    "Conv_1 = tf.nn.relu(conv2d(x_image, W_conv1) + b_conv1)\n",
    "Pool_1 = max_pool_2x2(Conv_1)\n",
    "\n",
    "W_conv2 = weight_variable([3, 3, 16, 32])\n",
    "b_conv2 = bias_variable([32])\n",
    "Conv_2 = tf.nn.relu(conv2d(Pool_1, W_conv2) + b_conv2)\n",
    "Pool_2 = max_pool_2x2(Conv_2)\n",
    "\n",
    "W_fc1 = weight_variable([7 * 7 * 32, 512])\n",
    "b_fc1 = bias_variable([512])\n",
    "Flatten = tf.reshape(Pool_2, [-1, 7 * 7 * 32])\n",
    "Fc1 = tf.nn.relu(tf.matmul(Flatten, W_fc1) + b_fc1)\n",
    "\n",
    "keep_prob = tf.placeholder(tf.float32)\n",
    "Dropout = tf.nn.dropout(Fc1, keep_prob)\n",
    "\n",
    "W_fc2 = weight_variable([512, 10])\n",
    "b_fc2 = bias_variable([10])\n",
    "Fc2 = tf.matmul(Dropout, W_fc2) + b_fc2\n",
    "y_h = tf.nn.softmax(Fc2)\n",
    "\n",
    "cross_entropy = tf.reduce_mean(-y * tf.log(y_h), axis = 1)\n",
    "train = tf.train.AdamOptimizer(1e-4).minimize(cross_entropy)"
   ]
  },
  {
   "cell_type": "code",
   "execution_count": 7,
   "metadata": {},
   "outputs": [],
   "source": [
    "is_correct = tf.equal(tf.argmax(y_h, axis = 1), tf.argmax(y, axis = 1))\n",
    "accuracy = tf.reduce_mean(tf.cast(is_correct, tf.float32))"
   ]
  },
  {
   "cell_type": "code",
   "execution_count": 8,
   "metadata": {},
   "outputs": [
    {
     "name": "stdout",
     "output_type": "stream",
     "text": [
      "step 0, training accuracy 0.050345\n",
      "step 0, validation accuracy 0.046200\n",
      "step 100, training accuracy 0.684018\n",
      "step 100, validation accuracy 0.687800\n",
      "step 200, training accuracy 0.819218\n",
      "step 200, validation accuracy 0.824200\n",
      "step 300, training accuracy 0.858891\n",
      "step 300, validation accuracy 0.866200\n",
      "step 400, training accuracy 0.886745\n",
      "step 400, validation accuracy 0.889600\n",
      "step 500, training accuracy 0.896109\n",
      "step 500, validation accuracy 0.901200\n",
      "step 600, training accuracy 0.914545\n",
      "step 600, validation accuracy 0.919200\n",
      "step 700, training accuracy 0.916182\n",
      "step 700, validation accuracy 0.921400\n",
      "step 800, training accuracy 0.929200\n",
      "step 800, validation accuracy 0.935600\n",
      "step 900, training accuracy 0.929618\n",
      "step 900, validation accuracy 0.931200\n",
      "step 1000, training accuracy 0.936273\n",
      "step 1000, validation accuracy 0.941600\n",
      "step 1100, training accuracy 0.940364\n",
      "step 1100, validation accuracy 0.943000\n",
      "step 1200, training accuracy 0.942309\n",
      "step 1200, validation accuracy 0.946400\n",
      "step 1300, training accuracy 0.945473\n",
      "step 1300, validation accuracy 0.950400\n",
      "step 1400, training accuracy 0.946927\n",
      "step 1400, validation accuracy 0.950600\n",
      "step 1500, training accuracy 0.952018\n",
      "step 1500, validation accuracy 0.954800\n",
      "step 1600, training accuracy 0.955018\n",
      "step 1600, validation accuracy 0.958800\n",
      "step 1700, training accuracy 0.957800\n",
      "step 1700, validation accuracy 0.958400\n",
      "step 1800, training accuracy 0.959982\n",
      "step 1800, validation accuracy 0.960400\n",
      "step 1900, training accuracy 0.960036\n",
      "step 1900, validation accuracy 0.963600\n",
      "step 2000, training accuracy 0.963182\n",
      "step 2000, validation accuracy 0.964400\n",
      "step 2100, training accuracy 0.962291\n",
      "step 2100, validation accuracy 0.964000\n",
      "step 2200, training accuracy 0.966164\n",
      "step 2200, validation accuracy 0.968400\n",
      "step 2300, training accuracy 0.966964\n",
      "step 2300, validation accuracy 0.969000\n",
      "step 2400, training accuracy 0.968564\n",
      "step 2400, validation accuracy 0.971400\n",
      "step 2500, training accuracy 0.969873\n",
      "step 2500, validation accuracy 0.969200\n",
      "step 2600, training accuracy 0.970764\n",
      "step 2600, validation accuracy 0.971600\n",
      "step 2700, training accuracy 0.970873\n",
      "step 2700, validation accuracy 0.972600\n",
      "step 2800, training accuracy 0.971527\n",
      "step 2800, validation accuracy 0.971600\n",
      "step 2900, training accuracy 0.968255\n",
      "step 2900, validation accuracy 0.968800\n",
      "step 3000, training accuracy 0.975473\n",
      "step 3000, validation accuracy 0.974200\n",
      "step 3100, training accuracy 0.973709\n",
      "step 3100, validation accuracy 0.974400\n",
      "step 3200, training accuracy 0.975691\n",
      "step 3200, validation accuracy 0.975000\n",
      "step 3300, training accuracy 0.976055\n",
      "step 3300, validation accuracy 0.975600\n",
      "step 3400, training accuracy 0.977000\n",
      "step 3400, validation accuracy 0.975200\n",
      "step 3500, training accuracy 0.977491\n",
      "step 3500, validation accuracy 0.977600\n",
      "step 3600, training accuracy 0.978364\n",
      "step 3600, validation accuracy 0.978200\n",
      "step 3700, training accuracy 0.978891\n",
      "step 3700, validation accuracy 0.978400\n",
      "step 3800, training accuracy 0.978127\n",
      "step 3800, validation accuracy 0.977600\n",
      "step 3900, training accuracy 0.979709\n",
      "step 3900, validation accuracy 0.978000\n",
      "step 4000, training accuracy 0.979364\n",
      "step 4000, validation accuracy 0.979800\n",
      "step 4100, training accuracy 0.980855\n",
      "step 4100, validation accuracy 0.978800\n",
      "step 4200, training accuracy 0.977273\n",
      "step 4200, validation accuracy 0.979800\n",
      "step 4300, training accuracy 0.980709\n",
      "step 4300, validation accuracy 0.978600\n",
      "step 4400, training accuracy 0.980164\n",
      "step 4400, validation accuracy 0.977600\n",
      "step 4500, training accuracy 0.980873\n",
      "step 4500, validation accuracy 0.979200\n",
      "step 4600, training accuracy 0.982436\n",
      "step 4600, validation accuracy 0.979400\n",
      "step 4700, training accuracy 0.983018\n",
      "step 4700, validation accuracy 0.981000\n",
      "step 4800, training accuracy 0.982636\n",
      "step 4800, validation accuracy 0.980800\n",
      "step 4900, training accuracy 0.983782\n",
      "step 4900, validation accuracy 0.981400\n",
      "step 5000, training accuracy 0.982891\n",
      "step 5000, validation accuracy 0.978600\n",
      "step 5100, training accuracy 0.984418\n",
      "step 5100, validation accuracy 0.982400\n",
      "step 5200, training accuracy 0.984218\n",
      "step 5200, validation accuracy 0.980800\n",
      "step 5300, training accuracy 0.984018\n",
      "step 5300, validation accuracy 0.982600\n",
      "step 5400, training accuracy 0.984000\n",
      "step 5400, validation accuracy 0.982800\n",
      "step 5500, training accuracy 0.985709\n",
      "step 5500, validation accuracy 0.984400\n",
      "step 5600, training accuracy 0.985418\n",
      "step 5600, validation accuracy 0.983400\n",
      "step 5700, training accuracy 0.984873\n",
      "step 5700, validation accuracy 0.983000\n",
      "step 5800, training accuracy 0.985855\n",
      "step 5800, validation accuracy 0.983200\n",
      "step 5900, training accuracy 0.986836\n",
      "step 5900, validation accuracy 0.983800\n",
      "step 6000, training accuracy 0.985636\n",
      "step 6000, validation accuracy 0.984200\n",
      "step 6100, training accuracy 0.985727\n",
      "step 6100, validation accuracy 0.982200\n",
      "step 6200, training accuracy 0.987527\n",
      "step 6200, validation accuracy 0.983600\n",
      "step 6300, training accuracy 0.986709\n",
      "step 6300, validation accuracy 0.983600\n",
      "step 6400, training accuracy 0.988127\n",
      "step 6400, validation accuracy 0.984600\n",
      "step 6500, training accuracy 0.987073\n",
      "step 6500, validation accuracy 0.985600\n",
      "step 6600, training accuracy 0.985764\n",
      "step 6600, validation accuracy 0.983600\n",
      "step 6700, training accuracy 0.988255\n",
      "step 6700, validation accuracy 0.983600\n",
      "step 6800, training accuracy 0.988218\n",
      "step 6800, validation accuracy 0.986000\n",
      "step 6900, training accuracy 0.987509\n",
      "step 6900, validation accuracy 0.982200\n",
      "step 7000, training accuracy 0.986509\n",
      "step 7000, validation accuracy 0.983000\n",
      "step 7100, training accuracy 0.988564\n",
      "step 7100, validation accuracy 0.984800\n",
      "step 7200, training accuracy 0.986309\n",
      "step 7200, validation accuracy 0.983400\n",
      "step 7300, training accuracy 0.988164\n",
      "step 7300, validation accuracy 0.985000\n",
      "step 7400, training accuracy 0.988909\n",
      "step 7400, validation accuracy 0.984200\n",
      "step 7500, training accuracy 0.989291\n",
      "step 7500, validation accuracy 0.985000\n",
      "step 7600, training accuracy 0.989109\n",
      "step 7600, validation accuracy 0.984400\n",
      "step 7700, training accuracy 0.989345\n",
      "step 7700, validation accuracy 0.986000\n",
      "step 7800, training accuracy 0.989127\n",
      "step 7800, validation accuracy 0.985200\n",
      "step 7900, training accuracy 0.990109\n",
      "step 7900, validation accuracy 0.985400\n",
      "step 8000, training accuracy 0.989418\n",
      "step 8000, validation accuracy 0.985400\n",
      "step 8100, training accuracy 0.989436\n",
      "step 8100, validation accuracy 0.985000\n",
      "step 8200, training accuracy 0.988491\n",
      "step 8200, validation accuracy 0.985000\n",
      "step 8300, training accuracy 0.990945\n",
      "step 8300, validation accuracy 0.986800\n",
      "step 8400, training accuracy 0.989436\n",
      "step 8400, validation accuracy 0.985200\n",
      "step 8500, training accuracy 0.990527\n",
      "step 8500, validation accuracy 0.985400\n",
      "step 8600, training accuracy 0.988818\n",
      "step 8600, validation accuracy 0.985800\n",
      "step 8700, training accuracy 0.989491\n",
      "step 8700, validation accuracy 0.986000\n",
      "step 8800, training accuracy 0.990382\n",
      "step 8800, validation accuracy 0.986000\n",
      "step 8900, training accuracy 0.991109\n",
      "step 8900, validation accuracy 0.985400\n",
      "step 9000, training accuracy 0.989873\n",
      "step 9000, validation accuracy 0.985000\n",
      "step 9100, training accuracy 0.990655\n",
      "step 9100, validation accuracy 0.987000\n",
      "step 9200, training accuracy 0.991545\n",
      "step 9200, validation accuracy 0.985000\n",
      "step 9300, training accuracy 0.991273\n",
      "step 9300, validation accuracy 0.986000\n",
      "step 9400, training accuracy 0.990127\n",
      "step 9400, validation accuracy 0.986600\n",
      "step 9500, training accuracy 0.991927\n",
      "step 9500, validation accuracy 0.986200\n",
      "step 9600, training accuracy 0.991200\n",
      "step 9600, validation accuracy 0.988200\n",
      "step 9700, training accuracy 0.989836\n",
      "step 9700, validation accuracy 0.985000\n",
      "step 9800, training accuracy 0.991600\n",
      "step 9800, validation accuracy 0.987400\n",
      "step 9900, training accuracy 0.992218\n",
      "step 9900, validation accuracy 0.986000\n",
      "test accuracy 0.987700\n"
     ]
    }
   ],
   "source": [
    "iterations = 10000\n",
    "batch_size = 50\n",
    "show_step = 100\n",
    "keep_prob_val = 0.9\n",
    "tf.global_variables_initializer().run()\n",
    "for i in range (iterations):\n",
    "    x_batch, y_batch = mnist.train.next_batch(batch_size)\n",
    "    if i % show_step == 0:\n",
    "        train_accuracy = accuracy.eval(feed_dict = {x : mnist.train.images, y: mnist.train.labels, keep_prob : 1.0})\n",
    "        print(\"step %d, training accuracy %.6f\" % (i, train_accuracy))\n",
    "        val_accuracy = accuracy.eval(feed_dict = {x : mnist.validation.images, y: mnist.validation.labels, keep_prob : 1.0})\n",
    "        print(\"step %d, validation accuracy %.6f\" % (i, val_accuracy))\n",
    "    train.run(feed_dict = {x : x_batch, y: y_batch, keep_prob : keep_prob_val})\n",
    "\n",
    "print(\"test accuracy %.6f\" % (accuracy.eval(feed_dict = {x : mnist.test.images, y: mnist.test.labels, keep_prob : 1.0})))"
   ]
  },
  {
   "cell_type": "code",
   "execution_count": null,
   "metadata": {
    "collapsed": true
   },
   "outputs": [],
   "source": []
  }
 ],
 "metadata": {
  "kernelspec": {
   "display_name": "Python 3",
   "language": "python",
   "name": "python3"
  },
  "language_info": {
   "codemirror_mode": {
    "name": "ipython",
    "version": 3
   },
   "file_extension": ".py",
   "mimetype": "text/x-python",
   "name": "python",
   "nbconvert_exporter": "python",
   "pygments_lexer": "ipython3",
   "version": "3.6.4"
  }
 },
 "nbformat": 4,
 "nbformat_minor": 2
}
